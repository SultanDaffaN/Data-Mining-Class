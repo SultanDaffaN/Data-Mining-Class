{
  "nbformat": 4,
  "nbformat_minor": 0,
  "metadata": {
    "colab": {
      "provenance": [],
      "include_colab_link": true
    },
    "kernelspec": {
      "name": "python3",
      "display_name": "Python 3"
    },
    "language_info": {
      "name": "python"
    }
  },
  "cells": [
    {
      "cell_type": "markdown",
      "metadata": {
        "id": "view-in-github",
        "colab_type": "text"
      },
      "source": [
        "<a href=\"https://colab.research.google.com/github/SultanDaffaN/Data-Mining-Class/blob/main/Tutorial/1.%20EDA/tutorial_logistic_regression_analysis.ipynb\" target=\"_parent\"><img src=\"https://colab.research.google.com/assets/colab-badge.svg\" alt=\"Open In Colab\"/></a>"
      ]
    },
    {
      "cell_type": "markdown",
      "source": [
        "### Contoh Melakukan Logistic Regression Analysis\n",
        "\n",
        "By Alfan F. Wicaksono\n",
        "(Fakultas Ilmu Komputer, UI)\n",
        "\n",
        "<br/>"
      ],
      "metadata": {
        "id": "DoUTGSZ-H7xx"
      }
    },
    {
      "cell_type": "code",
      "metadata": {
        "colab": {
          "base_uri": "https://localhost:8080/"
        },
        "id": "jca1pSoazrlD",
        "outputId": "d2e3a59f-2a31-4871-eb44-51abddaf6011"
      },
      "source": [
        "# membuat dataset dummy\n",
        "\n",
        "import pandas as pd\n",
        "\n",
        "data = {'weight': [50, 60, 90, 40, 60, 74, 61, 95, 85, 95, 50, 56, 60, 40, 55, 90, 70, 60, 89, 85, 96],\n",
        "        'age': [20, 23, 24, 25, 27, 28, 30, 40, 45, 48, 49, 49, 49, 50, 57, 57, 60, 67, 68, 64, 70],\n",
        "        'heart_disease': [0, 0, 1, 0, 0, 1, 0, 0, 1, 0, 1, 1, 0, 1, 0, 1, 1, 1, 1, 1, 1]\n",
        "        }\n",
        "\n",
        "df = pd.DataFrame(data)\n",
        "\n",
        "print (df)"
      ],
      "execution_count": null,
      "outputs": [
        {
          "output_type": "stream",
          "name": "stdout",
          "text": [
            "    weight  age  heart_disease\n",
            "0       50   20              0\n",
            "1       60   23              0\n",
            "2       90   24              1\n",
            "3       40   25              0\n",
            "4       60   27              0\n",
            "5       74   28              1\n",
            "6       61   30              0\n",
            "7       95   40              0\n",
            "8       85   45              1\n",
            "9       95   48              0\n",
            "10      50   49              1\n",
            "11      56   49              1\n",
            "12      60   49              0\n",
            "13      40   50              1\n",
            "14      55   57              0\n",
            "15      90   57              1\n",
            "16      70   60              1\n",
            "17      60   67              1\n",
            "18      89   68              1\n",
            "19      85   64              1\n",
            "20      96   70              1\n"
          ]
        }
      ]
    },
    {
      "cell_type": "code",
      "metadata": {
        "colab": {
          "base_uri": "https://localhost:8080/",
          "height": 326
        },
        "id": "Hd7b0CEH1xFG",
        "outputId": "b277717e-566a-40d3-99af-7a5a9b5104c5"
      },
      "source": [
        "# kita ingin mengetahui effect sizes dari weight dan age terhadap\n",
        "# heart_disease. Kali ini kita bisa gunakan logistic regression\n",
        "# analysis\n",
        "\n",
        "import statsmodels.formula.api as smf\n",
        "\n",
        "model = smf.logit(\"\"\"\n",
        "    heart_disease ~\n",
        "          weight +\n",
        "          age\n",
        "\"\"\", data = df)\n",
        "\n",
        "results = model.fit()\n",
        "results.summary()"
      ],
      "execution_count": null,
      "outputs": [
        {
          "output_type": "stream",
          "name": "stdout",
          "text": [
            "Optimization terminated successfully.\n",
            "         Current function value: 0.522285\n",
            "         Iterations 6\n"
          ]
        },
        {
          "output_type": "execute_result",
          "data": {
            "text/plain": [
              "<class 'statsmodels.iolib.summary.Summary'>\n",
              "\"\"\"\n",
              "                           Logit Regression Results                           \n",
              "==============================================================================\n",
              "Dep. Variable:          heart_disease   No. Observations:                   21\n",
              "Model:                          Logit   Df Residuals:                       18\n",
              "Method:                           MLE   Df Model:                            2\n",
              "Date:                Mon, 13 Feb 2023   Pseudo R-squ.:                  0.2352\n",
              "Time:                        22:38:19   Log-Likelihood:                -10.968\n",
              "converged:                       True   LL-Null:                       -14.341\n",
              "Covariance Type:            nonrobust   LLR p-value:                   0.03428\n",
              "==============================================================================\n",
              "                 coef    std err          z      P>|z|      [0.025      0.975]\n",
              "------------------------------------------------------------------------------\n",
              "Intercept     -4.2622      2.490     -1.712      0.087      -9.143       0.618\n",
              "weight         0.0170      0.029      0.585      0.558      -0.040       0.074\n",
              "age            0.0767      0.038      2.039      0.041       0.003       0.150\n",
              "==============================================================================\n",
              "\"\"\""
            ],
            "text/html": [
              "<table class=\"simpletable\">\n",
              "<caption>Logit Regression Results</caption>\n",
              "<tr>\n",
              "  <th>Dep. Variable:</th>     <td>heart_disease</td>  <th>  No. Observations:  </th>  <td>    21</td> \n",
              "</tr>\n",
              "<tr>\n",
              "  <th>Model:</th>                 <td>Logit</td>      <th>  Df Residuals:      </th>  <td>    18</td> \n",
              "</tr>\n",
              "<tr>\n",
              "  <th>Method:</th>                 <td>MLE</td>       <th>  Df Model:          </th>  <td>     2</td> \n",
              "</tr>\n",
              "<tr>\n",
              "  <th>Date:</th>            <td>Mon, 13 Feb 2023</td> <th>  Pseudo R-squ.:     </th>  <td>0.2352</td> \n",
              "</tr>\n",
              "<tr>\n",
              "  <th>Time:</th>                <td>22:38:19</td>     <th>  Log-Likelihood:    </th> <td> -10.968</td>\n",
              "</tr>\n",
              "<tr>\n",
              "  <th>converged:</th>             <td>True</td>       <th>  LL-Null:           </th> <td> -14.341</td>\n",
              "</tr>\n",
              "<tr>\n",
              "  <th>Covariance Type:</th>     <td>nonrobust</td>    <th>  LLR p-value:       </th>  <td>0.03428</td>\n",
              "</tr>\n",
              "</table>\n",
              "<table class=\"simpletable\">\n",
              "<tr>\n",
              "      <td></td>         <th>coef</th>     <th>std err</th>      <th>z</th>      <th>P>|z|</th>  <th>[0.025</th>    <th>0.975]</th>  \n",
              "</tr>\n",
              "<tr>\n",
              "  <th>Intercept</th> <td>   -4.2622</td> <td>    2.490</td> <td>   -1.712</td> <td> 0.087</td> <td>   -9.143</td> <td>    0.618</td>\n",
              "</tr>\n",
              "<tr>\n",
              "  <th>weight</th>    <td>    0.0170</td> <td>    0.029</td> <td>    0.585</td> <td> 0.558</td> <td>   -0.040</td> <td>    0.074</td>\n",
              "</tr>\n",
              "<tr>\n",
              "  <th>age</th>       <td>    0.0767</td> <td>    0.038</td> <td>    2.039</td> <td> 0.041</td> <td>    0.003</td> <td>    0.150</td>\n",
              "</tr>\n",
              "</table>"
            ]
          },
          "metadata": {},
          "execution_count": 4
        }
      ]
    },
    {
      "cell_type": "markdown",
      "metadata": {
        "id": "oHeOtxd45OZj"
      },
      "source": [
        "Yang perlu dilihat adalah coefficient, dan p-value (P>|z|). Jika p-value < 0.05, kita katakan bahwa variable tersebut adalah faktor untuk permasalahan binary classification tersebut (karena mempunyai evidence kuat bahwa nilai coefficient-nya berbeda dari nol). Coeff menggambangkan effect size-nya.\n",
        "\n",
        "Dari hasil analysis dengan data dummy di atas, dapat dilihat bahwa weight bukan merupakan faktor (p-value = 0.558 > 0.05). Namun, age merupakan fitur yang baik karena mempunyai efek terhadap heart_disease (p-value = 0.041 < 0.05).\n",
        "\n",
        "Nilai coefficient dari age adalah 0.077, yang berarti \"jika yang lain (weight) konstan, ketika age bertambah 1 tahun, odds ratio terkena sakit jantung menjadi meningkat e^0.077 = 1.08 kali lipat dari sebelumnya\"."
      ]
    },
    {
      "cell_type": "code",
      "source": [],
      "metadata": {
        "id": "Serketib75M2"
      },
      "execution_count": null,
      "outputs": []
    }
  ]
}